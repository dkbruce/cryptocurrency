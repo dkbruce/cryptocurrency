{
 "cells": [
  {
   "cell_type": "code",
   "execution_count": 1,
   "metadata": {},
   "outputs": [],
   "source": [
    "import pandas as pd\n",
    "from sqlalchemy import create_engine\n",
    "import pymysql\n",
    "import time\n",
    "import numpy as np\n",
    "import sqlite3"
   ]
  },
  {
   "cell_type": "markdown",
   "metadata": {},
   "source": [
    "# Extract"
   ]
  },
  {
   "cell_type": "code",
   "execution_count": 2,
   "metadata": {},
   "outputs": [],
   "source": [
    "bitcoin_path = 'data/bitcoin_price.csv'\n",
    "dash_path = 'data/dash_price.csv'\n",
    "ethereum_path = 'data/ethereum_price.csv'\n",
    "iota_path = 'data/iota_price.csv'\n",
    "litecoin_path = 'data/litecoin_price.csv'\n",
    "monero_path = 'data/monero_price.csv'\n",
    "neo_path = 'data/neo_price.csv'\n",
    "nem_path = 'data/nem_price.csv'\n",
    "numeraire_path = 'data/numeraire_price.csv'\n",
    "omisego_path = 'data/omisego_price.csv'\n",
    "qtum_path = 'data/qtum_price.csv'\n",
    "ripple_path = 'data/ripple_price.csv'\n",
    "stratis_path = 'data/stratis_price.csv'\n",
    "waves_path = 'data/waves_price.csv'\n",
    "\n",
    "bitcoin_df = pd.read_csv(bitcoin_path)\n",
    "dash_df = pd.read_csv(dash_path)\n",
    "ethereum_df = pd.read_csv(ethereum_path)\n",
    "iota_df = pd.read_csv(iota_path)\n",
    "litecoin_df = pd.read_csv(litecoin_path)\n",
    "monero_df = pd.read_csv(monero_path)\n",
    "neo_df = pd.read_csv(neo_path)\n",
    "nem_df = pd.read_csv(nem_path)\n",
    "numeraire_df = pd.read_csv(numeraire_path)\n",
    "omisego_df = pd.read_csv(omisego_path)\n",
    "qtum_df = pd.read_csv(qtum_path)\n",
    "ripple_df = pd.read_csv(ripple_path)\n",
    "stratis_df = pd.read_csv(stratis_path)\n",
    "waves_df = pd.read_csv(waves_path)\n",
    "\n",
    "sp_df = pd.read_csv('data/SP500data.csv')"
   ]
  },
  {
   "cell_type": "markdown",
   "metadata": {},
   "source": [
    "# Transform"
   ]
  },
  {
   "cell_type": "code",
   "execution_count": 3,
   "metadata": {},
   "outputs": [],
   "source": [
    "dataframes = [bitcoin_df, dash_df, ethereum_df, iota_df, litecoin_df, monero_df, neo_df, nem_df, numeraire_df, omisego_df, qtum_df, ripple_df, stratis_df, waves_df, sp_df]\n",
    "\n",
    "names = ['bitcoin', 'dash', 'ethereum', 'iota', 'litecoin', 'monero', 'neo', 'nem', 'numeraire', 'omisego', 'qtum', 'ripple', 'stratis', 'waves', 'sp']\n",
    "\n",
    "for name, frame in zip(names, dataframes):\n",
    "    # The S&P dataframe is slightly different, so we treat it separately\n",
    "    if name == 'sp':\n",
    "        frame.drop('Adj Close', axis=1, inplace=True)\n",
    "        frame.rename({'Date': 'date', 'Open': 'open', 'High': 'high', 'Low': 'low', 'Close': 'close', 'Volume': 'volume'}, inplace=True, axis=1)\n",
    "        \n",
    "    else:\n",
    "        frame.rename({'Date': 'date', 'Open': 'open', 'High': 'high', 'Low': 'low', 'Close': 'close', 'Volume': 'volume', 'Market Cap': 'market_cap'}, inplace=True, axis=1)\n",
    "        \n",
    "        # Reformat date into YYYY-MM-DD\n",
    "        frame['date'] = frame['date'].apply(lambda x: time.strftime('%Y-%m-%d', time.strptime(x, '%b %d, %Y')))\n",
    "        \n",
    "        # Replace '-' with NULL values\n",
    "        frame['volume'] = frame['volume'].replace('-', np.NaN)\n",
    "        \n",
    "        frame.name = name"
   ]
  },
  {
   "cell_type": "code",
   "execution_count": 4,
   "metadata": {},
   "outputs": [
    {
     "data": {
      "text/html": [
       "<div>\n",
       "<style scoped>\n",
       "    .dataframe tbody tr th:only-of-type {\n",
       "        vertical-align: middle;\n",
       "    }\n",
       "\n",
       "    .dataframe tbody tr th {\n",
       "        vertical-align: top;\n",
       "    }\n",
       "\n",
       "    .dataframe thead th {\n",
       "        text-align: right;\n",
       "    }\n",
       "</style>\n",
       "<table border=\"1\" class=\"dataframe\">\n",
       "  <thead>\n",
       "    <tr style=\"text-align: right;\">\n",
       "      <th></th>\n",
       "      <th>date</th>\n",
       "      <th>open</th>\n",
       "      <th>high</th>\n",
       "      <th>low</th>\n",
       "      <th>close</th>\n",
       "      <th>volume</th>\n",
       "      <th>market_cap</th>\n",
       "    </tr>\n",
       "  </thead>\n",
       "  <tbody>\n",
       "    <tr>\n",
       "      <th>0</th>\n",
       "      <td>2018-02-20</td>\n",
       "      <td>11231.8</td>\n",
       "      <td>11958.5</td>\n",
       "      <td>11231.80</td>\n",
       "      <td>11403.7</td>\n",
       "      <td>9,926,540,000</td>\n",
       "      <td>189,536,000,000</td>\n",
       "    </tr>\n",
       "    <tr>\n",
       "      <th>1</th>\n",
       "      <td>2018-02-19</td>\n",
       "      <td>10552.6</td>\n",
       "      <td>11273.8</td>\n",
       "      <td>10513.20</td>\n",
       "      <td>11225.3</td>\n",
       "      <td>7,652,090,000</td>\n",
       "      <td>178,055,000,000</td>\n",
       "    </tr>\n",
       "    <tr>\n",
       "      <th>2</th>\n",
       "      <td>2018-02-18</td>\n",
       "      <td>11123.4</td>\n",
       "      <td>11349.8</td>\n",
       "      <td>10326.00</td>\n",
       "      <td>10551.8</td>\n",
       "      <td>8,744,010,000</td>\n",
       "      <td>187,663,000,000</td>\n",
       "    </tr>\n",
       "    <tr>\n",
       "      <th>3</th>\n",
       "      <td>2018-02-17</td>\n",
       "      <td>10207.5</td>\n",
       "      <td>11139.5</td>\n",
       "      <td>10149.40</td>\n",
       "      <td>11112.7</td>\n",
       "      <td>8,660,880,000</td>\n",
       "      <td>172,191,000,000</td>\n",
       "    </tr>\n",
       "    <tr>\n",
       "      <th>4</th>\n",
       "      <td>2018-02-16</td>\n",
       "      <td>10135.7</td>\n",
       "      <td>10324.1</td>\n",
       "      <td>9824.82</td>\n",
       "      <td>10233.9</td>\n",
       "      <td>7,296,160,000</td>\n",
       "      <td>170,960,000,000</td>\n",
       "    </tr>\n",
       "  </tbody>\n",
       "</table>\n",
       "</div>"
      ],
      "text/plain": [
       "         date     open     high       low    close         volume  \\\n",
       "0  2018-02-20  11231.8  11958.5  11231.80  11403.7  9,926,540,000   \n",
       "1  2018-02-19  10552.6  11273.8  10513.20  11225.3  7,652,090,000   \n",
       "2  2018-02-18  11123.4  11349.8  10326.00  10551.8  8,744,010,000   \n",
       "3  2018-02-17  10207.5  11139.5  10149.40  11112.7  8,660,880,000   \n",
       "4  2018-02-16  10135.7  10324.1   9824.82  10233.9  7,296,160,000   \n",
       "\n",
       "        market_cap  \n",
       "0  189,536,000,000  \n",
       "1  178,055,000,000  \n",
       "2  187,663,000,000  \n",
       "3  172,191,000,000  \n",
       "4  170,960,000,000  "
      ]
     },
     "execution_count": 4,
     "metadata": {},
     "output_type": "execute_result"
    }
   ],
   "source": [
    "bitcoin_df.head()"
   ]
  },
  {
   "cell_type": "markdown",
   "metadata": {},
   "source": [
    "# Load"
   ]
  },
  {
   "cell_type": "code",
   "execution_count": 5,
   "metadata": {},
   "outputs": [],
   "source": [
    "db = 'cryptocurrency.sqlite'\n",
    "\n",
    "engine = create_engine(f'sqlite:///{db}')\n",
    "\n",
    "conn = sqlite3.connect(db)\n",
    "c = conn.cursor()\n",
    "with open('database_setup.sql', 'r') as script:\n",
    "    qry = script.read()\n",
    "    c.executescript(qry)\n",
    "conn.commit()\n",
    "conn.close()"
   ]
  },
  {
   "cell_type": "code",
   "execution_count": 6,
   "metadata": {},
   "outputs": [
    {
     "data": {
      "text/plain": [
       "['bitcoin',\n",
       " 'dash',\n",
       " 'ethereum',\n",
       " 'iota',\n",
       " 'litecoin',\n",
       " 'monero',\n",
       " 'nem',\n",
       " 'neo',\n",
       " 'numeraire',\n",
       " 'omisego',\n",
       " 'qtum',\n",
       " 'ripple',\n",
       " 'sp',\n",
       " 'stratis',\n",
       " 'waves']"
      ]
     },
     "execution_count": 6,
     "metadata": {},
     "output_type": "execute_result"
    }
   ],
   "source": [
    "engine.table_names()"
   ]
  },
  {
   "cell_type": "code",
   "execution_count": 7,
   "metadata": {},
   "outputs": [],
   "source": [
    "for name, frame in zip(names, dataframes):\n",
    "    frame.to_sql(name=name, con=engine, if_exists='replace', index=False)"
   ]
  },
  {
   "cell_type": "code",
   "execution_count": null,
   "metadata": {},
   "outputs": [],
   "source": []
  }
 ],
 "metadata": {
  "kernelspec": {
   "display_name": "Python 3",
   "language": "python",
   "name": "python3"
  },
  "language_info": {
   "codemirror_mode": {
    "name": "ipython",
    "version": 3
   },
   "file_extension": ".py",
   "mimetype": "text/x-python",
   "name": "python",
   "nbconvert_exporter": "python",
   "pygments_lexer": "ipython3",
   "version": "3.6.7"
  }
 },
 "nbformat": 4,
 "nbformat_minor": 2
}
