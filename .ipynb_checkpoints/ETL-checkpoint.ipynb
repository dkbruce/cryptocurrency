{
 "cells": [
  {
   "cell_type": "code",
   "execution_count": 1,
   "metadata": {},
   "outputs": [],
   "source": [
    "import pandas as pd\n",
    "from sqlalchemy import create_engine\n",
    "import pymysql\n",
    "import time\n",
    "import numpy as np\n",
    "pymysql.install_as_MySQLdb()"
   ]
  },
  {
   "cell_type": "markdown",
   "metadata": {},
   "source": [
    "# Extract"
   ]
  },
  {
   "cell_type": "code",
   "execution_count": 4,
   "metadata": {},
   "outputs": [],
   "source": [
    "bitcoin_path = 'data/bitcoin_price.csv'\n",
    "dash_path = 'data/dash_price.csv'\n",
    "ethereum_path = 'data/ethereum_price.csv'\n",
    "iota_path = 'data/iota_price.csv'\n",
    "litecoin_path = 'data/litecoin_price.csv'\n",
    "monero_path = 'data/monero_price.csv'\n",
    "neo_path = 'data/neo_price.csv'\n",
    "nem_path = 'data/nem_price.csv'\n",
    "numeraire_path = 'data/numeraire_price.csv'\n",
    "omisego_path = 'data/omisego_price.csv'\n",
    "qtum_path = 'data/qtum_price.csv'\n",
    "ripple_path = 'data/ripple_price.csv'\n",
    "stratis_path = 'data/stratis_price.csv'\n",
    "waves_path = 'data/waves_price.csv'\n",
    "\n",
    "bitcoin_df = pd.read_csv(bitcoin_path)\n",
    "dash_df = pd.read_csv(dash_path)\n",
    "ethereum_df = pd.read_csv(ethereum_path)\n",
    "iota_df = pd.read_csv(iota_path)\n",
    "litecoin_df = pd.read_csv(litecoin_path)\n",
    "monero_df = pd.read_csv(monero_path)\n",
    "neo_df = pd.read_csv(neo_path)\n",
    "nem_df = pd.read_csv(nem_path)\n",
    "numeraire_df = pd.read_csv(numeraire_path)\n",
    "omisego_df = pd.read_csv(omisego_path)\n",
    "qtum_df = pd.read_csv(qtum_path)\n",
    "ripple_df = pd.read_csv(ripple_path)\n",
    "stratis_df = pd.read_csv(stratis_path)\n",
    "waves_df = pd.read_csv(waves_path)\n",
    "\n",
    "sp_df = pd.read_csv('data/SP500data.csv')"
   ]
  },
  {
   "cell_type": "code",
   "execution_count": null,
   "metadata": {},
   "outputs": [],
   "source": []
  },
  {
   "cell_type": "markdown",
   "metadata": {},
   "source": [
    "# Transform"
   ]
  },
  {
   "cell_type": "code",
   "execution_count": null,
   "metadata": {},
   "outputs": [],
   "source": [
    "dataframes = [bitcoin_df, dash_df, ethereum_df, iota_df, litecoin_df, monero_df, neo_df, nem_df, numeraire_df, omisego_df, qtum_df, ripple_df, stratis_df, waves_df]\n",
    "\n",
    "names = ['bitcoin', 'dash', 'ethereum', 'iota', 'litecoin', 'monero', 'neo', 'nem', 'numeraire', 'omisego', 'qtum', 'ripple', 'stratis', 'waves']\n",
    "\n",
    "for name, frame in zip(names, dataframes):\n",
    "    frame.rename({'Date': 'date', 'Open': 'open', 'High': 'high', 'Low': 'low', 'Close': 'close', 'Volume': 'volume', 'Market Cap': 'market_cap'}, inplace=True, axis=1)\n",
    "    frame['date'] = frame['date'].apply(lambda x: time.strftime('%Y-%m-%d', time.strptime(x, '%b %d, %Y')))\n",
    "    frame['volume'] = frame['volume'].replace('-', np.NaN)\n",
    "    frame.name = name"
   ]
  },
  {
   "cell_type": "code",
   "execution_count": null,
   "metadata": {},
   "outputs": [],
   "source": [
    "bitcoin_df.head()"
   ]
  },
  {
   "cell_type": "markdown",
   "metadata": {},
   "source": [
    "# Load"
   ]
  },
  {
   "cell_type": "code",
   "execution_count": null,
   "metadata": {},
   "outputs": [],
   "source": [
    "connection = 'root:2582@localhost/crypto_db'\n",
    "engine = create_engine(f'mysql://{connection}')"
   ]
  },
  {
   "cell_type": "code",
   "execution_count": null,
   "metadata": {},
   "outputs": [],
   "source": [
    "engine.table_names()"
   ]
  },
  {
   "cell_type": "code",
   "execution_count": null,
   "metadata": {},
   "outputs": [],
   "source": [
    "for name, frame in zip(names, dataframes):\n",
    "    frame.to_sql(name=name, con=engine, if_exists='replace', index=False)"
   ]
  },
  {
   "cell_type": "code",
   "execution_count": null,
   "metadata": {},
   "outputs": [],
   "source": []
  }
 ],
 "metadata": {
  "kernelspec": {
   "display_name": "Python 3",
   "language": "python",
   "name": "python3"
  },
  "language_info": {
   "codemirror_mode": {
    "name": "ipython",
    "version": 3
   },
   "file_extension": ".py",
   "mimetype": "text/x-python",
   "name": "python",
   "nbconvert_exporter": "python",
   "pygments_lexer": "ipython3",
   "version": "3.6.7"
  }
 },
 "nbformat": 4,
 "nbformat_minor": 2
}
